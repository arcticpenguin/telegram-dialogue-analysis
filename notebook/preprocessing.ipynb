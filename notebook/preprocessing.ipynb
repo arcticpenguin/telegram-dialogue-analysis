{
 "cells": [
  {
   "cell_type": "code",
   "execution_count": 1,
   "metadata": {},
   "outputs": [],
   "source": [
    "import jieba\n",
    "import helper\n",
    "import pandas as pd\n",
    "import numpy as np\n",
    "import re"
   ]
  },
  {
   "cell_type": "code",
   "execution_count": 8,
   "metadata": {},
   "outputs": [
    {
     "name": "stdout",
     "output_type": "stream",
     "text": [
      "['我', '爱', '北京', '天安门']\n",
      "['you', 'are', 'my', 'star']\n",
      "['我', '不会', 'java']\n",
      "[]\n",
      "['我们', '中出', '了', '一个', '叛徒']\n",
      "['threePeriodsMark']\n",
      "['athreePeriodsMarkb']\n",
      "['threePeriodsMark']\n",
      "['...']\n",
      "['?']\n",
      "['我们', '.']\n",
      "['嗯哼']\n",
      "['啊嘞', 'threeQuestionsMark']\n",
      "['我擦嘞']\n",
      "['我', 'threeAOsMark']\n",
      "['threeHAsMark']\n",
      "['我', '去']\n",
      "['我', '去', '北京', '上学']\n",
      "['我', '去', '北京', '上学', 'nnsd']\n"
     ]
    }
   ],
   "source": [
    "jieba.load_userdict(\"user_dict.txt\")\n",
    "\n",
    "def preprocessText(x):\n",
    "    #@todo regex to handle ..., ???, etc\n",
    "    x = re.sub(r'(。(。*)。)', 'threePeriodsMark', x)\n",
    "    x = re.sub(r'(\\?(\\?*)\\?)|(？(？*)？)', \"threeQuestionsMark\", x)\n",
    "    x = re.sub(r'(啊(\\啊*)啊)', \"threeAHsMark\", x)\n",
    "    x = re.sub(r'(嗷(\\嗷*)嗷)', \"threeAOsMark\", x)\n",
    "    x = re.sub(r'(嗯(\\嗯*)嗯)', \"threeENsMark\", x)\n",
    "    x = re.sub(r'(哈(\\哈*)哈)', \"threeHAsMark\", x)\n",
    "    x = re.sub(r'(喔(\\喔*)喔)', \"threeWOsMark\", x)\n",
    "    x = x.replace(\"？\",\"?\")\n",
    "    x = re.sub(r\"(。|，|\\,)\",\" \",x)\n",
    "    return x\n",
    "\n",
    "def cut_word(x):\n",
    "    p_x = preprocessText(x)\n",
    "#     print (p_x)\n",
    "    seg_list = [word for word in jieba.cut(p_x, cut_all=False) if word != \" \"]\n",
    "    return seg_list\n",
    "\n",
    "print(cut_word(\"我爱北京天安门\"))\n",
    "print(cut_word(\"you are my star\"))\n",
    "print(cut_word(\"我不会java\"))\n",
    "print(cut_word(\"\"))\n",
    "print(cut_word(\"我们中出了，一个叛徒\"))\n",
    "print(cut_word(\"。。。\"))\n",
    "print(cut_word(\"a。。。。b\"))\n",
    "print(cut_word(\"。。\"))\n",
    "print(cut_word(\"...\"))\n",
    "print(cut_word(\"?\"))\n",
    "print(cut_word(\"我们.\"))\n",
    "print(cut_word(\"嗯哼\"))\n",
    "print(cut_word(\"啊嘞????\"))\n",
    "print(cut_word(\"我擦嘞\"))\n",
    "print(cut_word(\"我嗷嗷\"))\n",
    "print(cut_word(\"哈哈\"))\n",
    "print(cut_word(\"我去\"))\n",
    "print(cut_word(\"我去北京上学\"))\n",
    "print(cut_word(\"我去北京上学, nnsd\"))"
   ]
  },
  {
   "cell_type": "code",
   "execution_count": 3,
   "metadata": {},
   "outputs": [],
   "source": [
    "def preprocessing(df):\n",
    "    df[\"text_cut\"] = df[\"text\"].apply(lambda x: cut_word(x) if not pd.isnull(x) else None)\n",
    "    return df"
   ]
  },
  {
   "cell_type": "code",
   "execution_count": 9,
   "metadata": {},
   "outputs": [],
   "source": [
    "df = helper.load_data(small=True)\n",
    "df = preprocessing(df)\n",
    "df.to_csv(\"smallData_cutted\", index=False)"
   ]
  },
  {
   "cell_type": "code",
   "execution_count": 10,
   "metadata": {},
   "outputs": [
    {
     "data": {
      "text/plain": [
       "16357                                                  [诶]\n",
       "17512                   [不过, 高中生, 写成, 这样, 可能, 已经, 很, 好, 了]\n",
       "7096                                                [好, 啦]\n",
       "2683                                                  None\n",
       "7335                                        [threeHAsMark]\n",
       "4302                                                [nnsd]\n",
       "3102                                                [说, 啦]\n",
       "363                                       [我妈, 念叨, 你, 若干次]\n",
       "11880                                                 [木瓜]\n",
       "8045                                     [有, slides, 吗, ?]\n",
       "15786                                      [真的, 很难, 快, 起来]\n",
       "4761                [话, 说, spock, 年轻, 的, 时候, 是, 这个, 样子, 的]\n",
       "15352                                            [吃, 啥, 呢]\n",
       "5647     [一个, 是, 高三, 虽然, 很丧, 但, 那, 时候, 我爹, 开始, 教, 我, 深入...\n",
       "11068    [如果, 我, 不用, condition, 去, model, 他们, 的, mean, ...\n",
       "17428                                     [我们, 之间, 存在, 问题]\n",
       "10811          [threeHAsMark, 动用, 25g, 内存, 搞了个, 这个, 图, 出来]\n",
       "3081               [工作, 后, 可能, 就, 不用, 了, threePeriodsMark]\n",
       "7523                                    [我, 觉得, 我要, 上天, 了]\n",
       "8282                                         [正, 好吃, 鸡, ?]\n",
       "Name: text_cut, dtype: object"
      ]
     },
     "execution_count": 10,
     "metadata": {},
     "output_type": "execute_result"
    }
   ],
   "source": [
    "df.sample(n = 20)[\"text_cut\"]"
   ]
  }
 ],
 "metadata": {
  "kernelspec": {
   "display_name": "Python 3",
   "language": "python",
   "name": "python3"
  },
  "language_info": {
   "codemirror_mode": {
    "name": "ipython",
    "version": 3
   },
   "file_extension": ".py",
   "mimetype": "text/x-python",
   "name": "python",
   "nbconvert_exporter": "python",
   "pygments_lexer": "ipython3",
   "version": "3.7.0"
  }
 },
 "nbformat": 4,
 "nbformat_minor": 2
}
