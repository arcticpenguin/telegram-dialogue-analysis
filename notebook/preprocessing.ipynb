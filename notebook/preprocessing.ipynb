{
 "cells": [
  {
   "cell_type": "code",
   "execution_count": 1,
   "metadata": {},
   "outputs": [],
   "source": [
    "import jieba\n",
    "import helper\n",
    "import pandas as pd\n",
    "import numpy as np\n",
    "import re"
   ]
  },
  {
   "cell_type": "code",
   "execution_count": 2,
   "metadata": {},
   "outputs": [
    {
     "name": "stderr",
     "output_type": "stream",
     "text": [
      "Building prefix dict from the default dictionary ...\n",
      "Loading model from cache /var/folders/x3/552pjxmn0t91ghs3x46dx2980000gn/T/jieba.cache\n",
      "Loading model cost 0.602 seconds.\n",
      "Prefix dict has been built succesfully.\n"
     ]
    },
    {
     "name": "stdout",
     "output_type": "stream",
     "text": [
      "['我', '爱', '北京', '天安门']\n",
      "['you', 'are', 'my', 'star']\n",
      "['我', '不会', 'java']\n",
      "[]\n",
      "['我们', '中出', '了', '一个', '叛徒']\n",
      "['threePeriodsMark']\n",
      "['a', 'threePeriodsMark', 'b']\n",
      "['threePeriodsMark']\n",
      "['...']\n",
      "['?']\n",
      "['我们', '.']\n",
      "['嗯哼']\n",
      "['啊嘞', 'threeQuestionsMark']\n",
      "['我擦嘞']\n",
      "['我', 'threeAOsMark']\n",
      "['threeHAsMark']\n",
      "['我', '去']\n",
      "['我', '去', '北京', '上学']\n",
      "['我', '去', '北京', '上学', 'nnsd']\n",
      "['我靠']\n",
      "['emojiMengbi']\n"
     ]
    }
   ],
   "source": [
    "jieba.load_userdict(\"user_dict.txt\")\n",
    "\n",
    "def preprocessText(x):\n",
    "    #@todo regex to handle ..., ???, etc\n",
    "    x = re.sub(r'(。(。*)。)', ' threePeriodsMark ', x)\n",
    "    x = re.sub(r'(\\?(\\?*)\\?)|(？(？*)？)', \" threeQuestionsMark \", x)\n",
    "    x = re.sub(r'(啊(\\啊*)啊)', \" threeAHsMark \", x)\n",
    "    x = re.sub(r'(嗷(\\嗷*)嗷)', \" threeAOsMark \", x)\n",
    "    x = re.sub(r'(嗯(\\嗯*)嗯)', \" threeENsMark \", x)\n",
    "    x = re.sub(r'(哈(\\哈*)哈)', \" threeHAsMark \", x)\n",
    "    x = re.sub(r'(喔(\\喔*)喔)', \" threeWOsMark \", x)\n",
    "    x = x.replace(\">_<\",\" emojiMengbi \")\n",
    "    x = re.sub(r\"(。|，|\\,)\",\" \",x)\n",
    "    return x\n",
    "\n",
    "def cut_word(x):\n",
    "    p_x = preprocessText(x)\n",
    "#     print (p_x)\n",
    "    seg_list = [word for word in jieba.cut(p_x, cut_all=False) if word != \" \"]\n",
    "    return seg_list\n",
    "\n",
    "print(cut_word(\"我爱北京天安门\"))\n",
    "print(cut_word(\"you are my star\"))\n",
    "print(cut_word(\"我不会java\"))\n",
    "print(cut_word(\"\"))\n",
    "print(cut_word(\"我们中出了，一个叛徒\"))\n",
    "print(cut_word(\"。。。\"))\n",
    "print(cut_word(\"a。。。。b\"))\n",
    "print(cut_word(\"。。\"))\n",
    "print(cut_word(\"...\"))\n",
    "print(cut_word(\"?\"))\n",
    "print(cut_word(\"我们.\"))\n",
    "print(cut_word(\"嗯哼\"))\n",
    "print(cut_word(\"啊嘞????\"))\n",
    "print(cut_word(\"我擦嘞\"))\n",
    "print(cut_word(\"我嗷嗷\"))\n",
    "print(cut_word(\"哈哈\"))\n",
    "print(cut_word(\"我去\"))\n",
    "print(cut_word(\"我去北京上学\"))\n",
    "print(cut_word(\"我去北京上学, nnsd\"))\n",
    "print(cut_word(\"我靠\"))\n",
    "print(cut_word(\">_<\"))"
   ]
  },
  {
   "cell_type": "code",
   "execution_count": 3,
   "metadata": {},
   "outputs": [],
   "source": [
    "def preprocessing(df):\n",
    "    df[\"text_cut\"] = df[\"text\"].apply(lambda x: cut_word(x) if not pd.isnull(x) else None)\n",
    "    return df"
   ]
  },
  {
   "cell_type": "code",
   "execution_count": 4,
   "metadata": {},
   "outputs": [
    {
     "name": "stderr",
     "output_type": "stream",
     "text": [
      "/Users/wenzhaoxu/anaconda3/lib/python3.7/site-packages/IPython/core/interactiveshell.py:2901: DtypeWarning: Columns (0,1,4,8,11,12,14,17,27) have mixed types. Specify dtype option on import or set low_memory=False.\n",
      "  if self.run_code(code, result):\n"
     ]
    }
   ],
   "source": [
    "df = helper.load_data(small=False)\n",
    "df = preprocessing(df)\n",
    "df.to_csv(\"fullData_cutted\", index=False)"
   ]
  },
  {
   "cell_type": "code",
   "execution_count": 5,
   "metadata": {},
   "outputs": [],
   "source": [
    "df = helper.load_data(small=True)\n",
    "df = preprocessing(df)\n",
    "df.to_csv(\"smallData_cutted\", index=False)"
   ]
  },
  {
   "cell_type": "code",
   "execution_count": 6,
   "metadata": {},
   "outputs": [
    {
     "data": {
      "text/plain": [
       "11377                                         [这个, 很难说, 啊]\n",
       "1494       [嗯, threePeriodsMark, 这么, 肥, 的, 猫, 又, 是, 个, 怂货]\n",
       "12453                                          [不会, 虐狗, 吧]\n",
       "16185                                                 None\n",
       "19411                                    [会, 被, 各种, judge]\n",
       "10704                                                 None\n",
       "4087                                 [我, 去, 她, 朋友圈, 留个, 言]\n",
       "5729     [但是, 被, 人, 塑造, 思维, 模式, 我, 真的, 没, 啥, 体会, threeP...\n",
       "409                                                    [昂]\n",
       "12577                                                  [昂]\n",
       "12438                                          [吃晚饭, 了, 吗]\n",
       "16588                                [或者, 天天, 都, 是, 周末, ？]\n",
       "13086                                               [我, 去]\n",
       "1846                                             [phd, 日常]\n",
       "17084                                           [WTF, ...]\n",
       "12937                                [我, 电脑, 的, 电池, 在, 膨胀]\n",
       "8604                                               [明年, ？]\n",
       "13916    [[, {, ', type, ', :, ', link, ', ', text, ', ...\n",
       "19403                          [我, 觉得, 我, somehow, 可以, 理解]\n",
       "3403                                                  None\n",
       "Name: text_cut, dtype: object"
      ]
     },
     "execution_count": 6,
     "metadata": {},
     "output_type": "execute_result"
    }
   ],
   "source": [
    "df.sample(n = 20)[\"text_cut\"]"
   ]
  }
 ],
 "metadata": {
  "kernelspec": {
   "display_name": "Python 3",
   "language": "python",
   "name": "python3"
  },
  "language_info": {
   "codemirror_mode": {
    "name": "ipython",
    "version": 3
   },
   "file_extension": ".py",
   "mimetype": "text/x-python",
   "name": "python",
   "nbconvert_exporter": "python",
   "pygments_lexer": "ipython3",
   "version": "3.7.0"
  }
 },
 "nbformat": 4,
 "nbformat_minor": 2
}
