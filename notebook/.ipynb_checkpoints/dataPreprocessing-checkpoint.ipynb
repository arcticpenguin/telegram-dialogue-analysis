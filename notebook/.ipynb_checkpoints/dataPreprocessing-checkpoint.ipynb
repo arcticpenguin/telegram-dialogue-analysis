{
 "cells": [
  {
   "cell_type": "code",
   "execution_count": 1,
   "metadata": {},
   "outputs": [],
   "source": [
    "import pandas as pd\n",
    "import numpy as np\n",
    "import json"
   ]
  },
  {
   "cell_type": "markdown",
   "metadata": {},
   "source": [
    "# Convert to CSV"
   ]
  },
  {
   "cell_type": "code",
   "execution_count": 19,
   "metadata": {},
   "outputs": [],
   "source": [
    "with open(\"/Users/wenzhaoxu/Developer/telegramChat/Full Data/DataExport_17_05_2019/result.json\", \"r\") as f:\n",
    "    data = json.load(f)"
   ]
  },
  {
   "cell_type": "code",
   "execution_count": 20,
   "metadata": {},
   "outputs": [],
   "source": [
    "chatHistory = data[\"chats\"][\"list\"][0][\"messages\"]"
   ]
  },
  {
   "cell_type": "code",
   "execution_count": 21,
   "metadata": {},
   "outputs": [],
   "source": [
    "df = pd.DataFrame(chatHistory)"
   ]
  },
  {
   "cell_type": "code",
   "execution_count": 22,
   "metadata": {},
   "outputs": [
    {
     "data": {
      "text/plain": [
       "(204525, 29)"
      ]
     },
     "execution_count": 22,
     "metadata": {},
     "output_type": "execute_result"
    }
   ],
   "source": [
    "df.shape"
   ]
  },
  {
   "cell_type": "code",
   "execution_count": 23,
   "metadata": {},
   "outputs": [
    {
     "data": {
      "text/plain": [
       "Index(['action', 'actor', 'actor_id', 'date', 'discard_reason',\n",
       "       'duration_seconds', 'edited', 'file', 'forwarded_from', 'from',\n",
       "       'from_id', 'game_description', 'game_link', 'game_message_id',\n",
       "       'game_title', 'height', 'id', 'location_information', 'media_type',\n",
       "       'mime_type', 'photo', 'reply_to_message_id', 'score', 'sticker_emoji',\n",
       "       'text', 'thumbnail', 'type', 'via_bot', 'width'],\n",
       "      dtype='object')"
      ]
     },
     "execution_count": 23,
     "metadata": {},
     "output_type": "execute_result"
    }
   ],
   "source": [
    "df.columns"
   ]
  },
  {
   "cell_type": "code",
   "execution_count": 84,
   "metadata": {},
   "outputs": [],
   "source": [
    "df.to_csv(\"fullData.csv\", index=False)\n",
    "df.tail(20000).to_csv(\"smallData.csv\", index=False)"
   ]
  },
  {
   "cell_type": "markdown",
   "metadata": {},
   "source": [
    "# Explore data"
   ]
  },
  {
   "cell_type": "code",
   "execution_count": 79,
   "metadata": {},
   "outputs": [
    {
     "data": {
      "text/html": [
       "<div>\n",
       "<style scoped>\n",
       "    .dataframe tbody tr th:only-of-type {\n",
       "        vertical-align: middle;\n",
       "    }\n",
       "\n",
       "    .dataframe tbody tr th {\n",
       "        vertical-align: top;\n",
       "    }\n",
       "\n",
       "    .dataframe thead th {\n",
       "        text-align: right;\n",
       "    }\n",
       "</style>\n",
       "<table border=\"1\" class=\"dataframe\">\n",
       "  <thead>\n",
       "    <tr style=\"text-align: right;\">\n",
       "      <th></th>\n",
       "      <th>action</th>\n",
       "      <th>actor</th>\n",
       "      <th>actor_id</th>\n",
       "      <th>date</th>\n",
       "      <th>discard_reason</th>\n",
       "      <th>duration_seconds</th>\n",
       "      <th>edited</th>\n",
       "      <th>file</th>\n",
       "      <th>forwarded_from</th>\n",
       "      <th>from</th>\n",
       "      <th>...</th>\n",
       "      <th>mime_type</th>\n",
       "      <th>photo</th>\n",
       "      <th>reply_to_message_id</th>\n",
       "      <th>score</th>\n",
       "      <th>sticker_emoji</th>\n",
       "      <th>text</th>\n",
       "      <th>thumbnail</th>\n",
       "      <th>type</th>\n",
       "      <th>via_bot</th>\n",
       "      <th>width</th>\n",
       "    </tr>\n",
       "  </thead>\n",
       "  <tbody>\n",
       "    <tr>\n",
       "      <th>140914</th>\n",
       "      <td>phone_call</td>\n",
       "      <td>Vincent Xu</td>\n",
       "      <td>201564278.0</td>\n",
       "      <td>2018-02-21T20:09:10</td>\n",
       "      <td>busy</td>\n",
       "      <td>NaN</td>\n",
       "      <td>1969-12-31T18:00:00</td>\n",
       "      <td>NaN</td>\n",
       "      <td>NaN</td>\n",
       "      <td>NaN</td>\n",
       "      <td>...</td>\n",
       "      <td>NaN</td>\n",
       "      <td>NaN</td>\n",
       "      <td>NaN</td>\n",
       "      <td>NaN</td>\n",
       "      <td>NaN</td>\n",
       "      <td></td>\n",
       "      <td>NaN</td>\n",
       "      <td>service</td>\n",
       "      <td>NaN</td>\n",
       "      <td>NaN</td>\n",
       "    </tr>\n",
       "  </tbody>\n",
       "</table>\n",
       "<p>1 rows × 29 columns</p>\n",
       "</div>"
      ],
      "text/plain": [
       "            action       actor     actor_id                 date  \\\n",
       "140914  phone_call  Vincent Xu  201564278.0  2018-02-21T20:09:10   \n",
       "\n",
       "       discard_reason  duration_seconds               edited file  \\\n",
       "140914           busy               NaN  1969-12-31T18:00:00  NaN   \n",
       "\n",
       "       forwarded_from from  ...   mime_type photo reply_to_message_id  score  \\\n",
       "140914            NaN  NaN  ...         NaN   NaN                 NaN    NaN   \n",
       "\n",
       "       sticker_emoji  text  thumbnail     type via_bot width  \n",
       "140914           NaN              NaN  service     NaN   NaN  \n",
       "\n",
       "[1 rows x 29 columns]"
      ]
     },
     "execution_count": 79,
     "metadata": {},
     "output_type": "execute_result"
    }
   ],
   "source": [
    "df[~pd.isna(df[\"action\"])].tail(1) # Action, actor, actor_id are special actions in telegram"
   ]
  },
  {
   "cell_type": "code",
   "execution_count": 80,
   "metadata": {},
   "outputs": [
    {
     "data": {
      "text/html": [
       "<div>\n",
       "<style scoped>\n",
       "    .dataframe tbody tr th:only-of-type {\n",
       "        vertical-align: middle;\n",
       "    }\n",
       "\n",
       "    .dataframe tbody tr th {\n",
       "        vertical-align: top;\n",
       "    }\n",
       "\n",
       "    .dataframe thead th {\n",
       "        text-align: right;\n",
       "    }\n",
       "</style>\n",
       "<table border=\"1\" class=\"dataframe\">\n",
       "  <thead>\n",
       "    <tr style=\"text-align: right;\">\n",
       "      <th></th>\n",
       "      <th>action</th>\n",
       "      <th>actor</th>\n",
       "      <th>actor_id</th>\n",
       "      <th>date</th>\n",
       "      <th>discard_reason</th>\n",
       "      <th>duration_seconds</th>\n",
       "      <th>edited</th>\n",
       "      <th>file</th>\n",
       "      <th>forwarded_from</th>\n",
       "      <th>from</th>\n",
       "      <th>...</th>\n",
       "      <th>mime_type</th>\n",
       "      <th>photo</th>\n",
       "      <th>reply_to_message_id</th>\n",
       "      <th>score</th>\n",
       "      <th>sticker_emoji</th>\n",
       "      <th>text</th>\n",
       "      <th>thumbnail</th>\n",
       "      <th>type</th>\n",
       "      <th>via_bot</th>\n",
       "      <th>width</th>\n",
       "    </tr>\n",
       "  </thead>\n",
       "  <tbody>\n",
       "    <tr>\n",
       "      <th>140914</th>\n",
       "      <td>phone_call</td>\n",
       "      <td>Vincent Xu</td>\n",
       "      <td>201564278.0</td>\n",
       "      <td>2018-02-21T20:09:10</td>\n",
       "      <td>busy</td>\n",
       "      <td>NaN</td>\n",
       "      <td>1969-12-31T18:00:00</td>\n",
       "      <td>NaN</td>\n",
       "      <td>NaN</td>\n",
       "      <td>NaN</td>\n",
       "      <td>...</td>\n",
       "      <td>NaN</td>\n",
       "      <td>NaN</td>\n",
       "      <td>NaN</td>\n",
       "      <td>NaN</td>\n",
       "      <td>NaN</td>\n",
       "      <td></td>\n",
       "      <td>NaN</td>\n",
       "      <td>service</td>\n",
       "      <td>NaN</td>\n",
       "      <td>NaN</td>\n",
       "    </tr>\n",
       "  </tbody>\n",
       "</table>\n",
       "<p>1 rows × 29 columns</p>\n",
       "</div>"
      ],
      "text/plain": [
       "            action       actor     actor_id                 date  \\\n",
       "140914  phone_call  Vincent Xu  201564278.0  2018-02-21T20:09:10   \n",
       "\n",
       "       discard_reason  duration_seconds               edited file  \\\n",
       "140914           busy               NaN  1969-12-31T18:00:00  NaN   \n",
       "\n",
       "       forwarded_from from  ...   mime_type photo reply_to_message_id  score  \\\n",
       "140914            NaN  NaN  ...         NaN   NaN                 NaN    NaN   \n",
       "\n",
       "       sticker_emoji  text  thumbnail     type via_bot width  \n",
       "140914           NaN              NaN  service     NaN   NaN  \n",
       "\n",
       "[1 rows x 29 columns]"
      ]
     },
     "execution_count": 80,
     "metadata": {},
     "output_type": "execute_result"
    }
   ],
   "source": [
    "df[~pd.isna(df[\"discard_reason\"])].tail(1) # discard_reason, duration_seconds is for phone_call"
   ]
  },
  {
   "cell_type": "code",
   "execution_count": 74,
   "metadata": {},
   "outputs": [
    {
     "data": {
      "text/html": [
       "<div>\n",
       "<style scoped>\n",
       "    .dataframe tbody tr th:only-of-type {\n",
       "        vertical-align: middle;\n",
       "    }\n",
       "\n",
       "    .dataframe tbody tr th {\n",
       "        vertical-align: top;\n",
       "    }\n",
       "\n",
       "    .dataframe thead th {\n",
       "        text-align: right;\n",
       "    }\n",
       "</style>\n",
       "<table border=\"1\" class=\"dataframe\">\n",
       "  <thead>\n",
       "    <tr style=\"text-align: right;\">\n",
       "      <th></th>\n",
       "      <th>text</th>\n",
       "      <th>edited</th>\n",
       "    </tr>\n",
       "  </thead>\n",
       "  <tbody>\n",
       "    <tr>\n",
       "      <th>0</th>\n",
       "      <td></td>\n",
       "      <td>1969-12-31T18:00:00</td>\n",
       "    </tr>\n",
       "    <tr>\n",
       "      <th>1</th>\n",
       "      <td></td>\n",
       "      <td>1969-12-31T18:00:00</td>\n",
       "    </tr>\n",
       "    <tr>\n",
       "      <th>2</th>\n",
       "      <td></td>\n",
       "      <td>1969-12-31T18:00:00</td>\n",
       "    </tr>\n",
       "    <tr>\n",
       "      <th>3</th>\n",
       "      <td></td>\n",
       "      <td>1969-12-31T18:00:00</td>\n",
       "    </tr>\n",
       "    <tr>\n",
       "      <th>4</th>\n",
       "      <td></td>\n",
       "      <td>1969-12-31T18:00:00</td>\n",
       "    </tr>\n",
       "  </tbody>\n",
       "</table>\n",
       "</div>"
      ],
      "text/plain": [
       "  text               edited\n",
       "0       1969-12-31T18:00:00\n",
       "1       1969-12-31T18:00:00\n",
       "2       1969-12-31T18:00:00\n",
       "3       1969-12-31T18:00:00\n",
       "4       1969-12-31T18:00:00"
      ]
     },
     "execution_count": 74,
     "metadata": {},
     "output_type": "execute_result"
    }
   ],
   "source": [
    "df[~pd.isna(df[\"edited\"])][[\"text\",\"edited\"]].head(5) # edited: messged edited time, default value is UTC=0?"
   ]
  },
  {
   "cell_type": "code",
   "execution_count": 39,
   "metadata": {},
   "outputs": [
    {
     "data": {
      "text/html": [
       "<div>\n",
       "<style scoped>\n",
       "    .dataframe tbody tr th:only-of-type {\n",
       "        vertical-align: middle;\n",
       "    }\n",
       "\n",
       "    .dataframe tbody tr th {\n",
       "        vertical-align: top;\n",
       "    }\n",
       "\n",
       "    .dataframe thead th {\n",
       "        text-align: right;\n",
       "    }\n",
       "</style>\n",
       "<table border=\"1\" class=\"dataframe\">\n",
       "  <thead>\n",
       "    <tr style=\"text-align: right;\">\n",
       "      <th></th>\n",
       "      <th>game_description</th>\n",
       "      <th>game_link</th>\n",
       "      <th>game_message_id</th>\n",
       "      <th>game_title</th>\n",
       "    </tr>\n",
       "  </thead>\n",
       "  <tbody>\n",
       "    <tr>\n",
       "      <th>38682</th>\n",
       "      <td>Dodge the cannonballs and collect the gold to ...</td>\n",
       "      <td>https://t.me/gamebot?game=Corsairs</td>\n",
       "      <td>NaN</td>\n",
       "      <td>Corsairs</td>\n",
       "    </tr>\n",
       "    <tr>\n",
       "      <th>38964</th>\n",
       "      <td>Show your math skills! How high can you score?</td>\n",
       "      <td>https://t.me/gamebot?game=MathBattle</td>\n",
       "      <td>NaN</td>\n",
       "      <td>Math Battle</td>\n",
       "    </tr>\n",
       "  </tbody>\n",
       "</table>\n",
       "</div>"
      ],
      "text/plain": [
       "                                        game_description  \\\n",
       "38682  Dodge the cannonballs and collect the gold to ...   \n",
       "38964     Show your math skills! How high can you score?   \n",
       "\n",
       "                                  game_link  game_message_id   game_title  \n",
       "38682    https://t.me/gamebot?game=Corsairs              NaN     Corsairs  \n",
       "38964  https://t.me/gamebot?game=MathBattle              NaN  Math Battle  "
      ]
     },
     "execution_count": 39,
     "metadata": {},
     "output_type": "execute_result"
    }
   ],
   "source": [
    "df[~pd.isna(df[\"game_description\"])][[\"game_description\",\"game_link\",\"game_message_id\",\"game_title\"]].head(5)"
   ]
  },
  {
   "cell_type": "code",
   "execution_count": 66,
   "metadata": {},
   "outputs": [
    {
     "data": {
      "text/html": [
       "<div>\n",
       "<style scoped>\n",
       "    .dataframe tbody tr th:only-of-type {\n",
       "        vertical-align: middle;\n",
       "    }\n",
       "\n",
       "    .dataframe tbody tr th {\n",
       "        vertical-align: top;\n",
       "    }\n",
       "\n",
       "    .dataframe thead th {\n",
       "        text-align: right;\n",
       "    }\n",
       "</style>\n",
       "<table border=\"1\" class=\"dataframe\">\n",
       "  <thead>\n",
       "    <tr style=\"text-align: right;\">\n",
       "      <th></th>\n",
       "      <th>reply_to_message_id</th>\n",
       "    </tr>\n",
       "  </thead>\n",
       "  <tbody>\n",
       "    <tr>\n",
       "      <th>91880</th>\n",
       "      <td>97380.0</td>\n",
       "    </tr>\n",
       "    <tr>\n",
       "      <th>94747</th>\n",
       "      <td>100606.0</td>\n",
       "    </tr>\n",
       "    <tr>\n",
       "      <th>103421</th>\n",
       "      <td>109326.0</td>\n",
       "    </tr>\n",
       "    <tr>\n",
       "      <th>134720</th>\n",
       "      <td>142341.0</td>\n",
       "    </tr>\n",
       "    <tr>\n",
       "      <th>135735</th>\n",
       "      <td>142996.0</td>\n",
       "    </tr>\n",
       "  </tbody>\n",
       "</table>\n",
       "</div>"
      ],
      "text/plain": [
       "        reply_to_message_id\n",
       "91880               97380.0\n",
       "94747              100606.0\n",
       "103421             109326.0\n",
       "134720             142341.0\n",
       "135735             142996.0"
      ]
     },
     "execution_count": 66,
     "metadata": {},
     "output_type": "execute_result"
    }
   ],
   "source": [
    "df[~pd.isna(df[\"reply_to_message_id\"])][[\"reply_to_message_id\"]].head(5)"
   ]
  },
  {
   "cell_type": "code",
   "execution_count": 81,
   "metadata": {},
   "outputs": [
    {
     "data": {
      "text/html": [
       "<div>\n",
       "<style scoped>\n",
       "    .dataframe tbody tr th:only-of-type {\n",
       "        vertical-align: middle;\n",
       "    }\n",
       "\n",
       "    .dataframe tbody tr th {\n",
       "        vertical-align: top;\n",
       "    }\n",
       "\n",
       "    .dataframe thead th {\n",
       "        text-align: right;\n",
       "    }\n",
       "</style>\n",
       "<table border=\"1\" class=\"dataframe\">\n",
       "  <thead>\n",
       "    <tr style=\"text-align: right;\">\n",
       "      <th></th>\n",
       "      <th>location_information</th>\n",
       "      <th>date</th>\n",
       "    </tr>\n",
       "  </thead>\n",
       "  <tbody>\n",
       "    <tr>\n",
       "      <th>143594</th>\n",
       "      <td>{'latitude': 42.256466, 'longitude': -71.757395}</td>\n",
       "      <td>2018-03-09T12:36:29</td>\n",
       "    </tr>\n",
       "    <tr>\n",
       "      <th>143598</th>\n",
       "      <td>{'latitude': 42.261551, 'longitude': -71.794945}</td>\n",
       "      <td>2018-03-09T12:46:55</td>\n",
       "    </tr>\n",
       "    <tr>\n",
       "      <th>177482</th>\n",
       "      <td>{'latitude': 29.753967, 'longitude': -95.357915}</td>\n",
       "      <td>2018-09-28T19:10:02</td>\n",
       "    </tr>\n",
       "  </tbody>\n",
       "</table>\n",
       "</div>"
      ],
      "text/plain": [
       "                                    location_information                 date\n",
       "143594  {'latitude': 42.256466, 'longitude': -71.757395}  2018-03-09T12:36:29\n",
       "143598  {'latitude': 42.261551, 'longitude': -71.794945}  2018-03-09T12:46:55\n",
       "177482  {'latitude': 29.753967, 'longitude': -95.357915}  2018-09-28T19:10:02"
      ]
     },
     "execution_count": 81,
     "metadata": {},
     "output_type": "execute_result"
    }
   ],
   "source": [
    "df[~pd.isna(df[\"location_information\"])][[\"location_information\",\"date\"]].tail(3)"
   ]
  },
  {
   "cell_type": "code",
   "execution_count": 82,
   "metadata": {},
   "outputs": [
    {
     "data": {
      "text/html": [
       "<div>\n",
       "<style scoped>\n",
       "    .dataframe tbody tr th:only-of-type {\n",
       "        vertical-align: middle;\n",
       "    }\n",
       "\n",
       "    .dataframe tbody tr th {\n",
       "        vertical-align: top;\n",
       "    }\n",
       "\n",
       "    .dataframe thead th {\n",
       "        text-align: right;\n",
       "    }\n",
       "</style>\n",
       "<table border=\"1\" class=\"dataframe\">\n",
       "  <thead>\n",
       "    <tr style=\"text-align: right;\">\n",
       "      <th></th>\n",
       "      <th>media_type</th>\n",
       "      <th>width</th>\n",
       "      <th>sticker_emoji</th>\n",
       "    </tr>\n",
       "  </thead>\n",
       "  <tbody>\n",
       "    <tr>\n",
       "      <th>0</th>\n",
       "      <td>sticker</td>\n",
       "      <td>512.0</td>\n",
       "      <td>😭</td>\n",
       "    </tr>\n",
       "    <tr>\n",
       "      <th>1</th>\n",
       "      <td>sticker</td>\n",
       "      <td>512.0</td>\n",
       "      <td>😵</td>\n",
       "    </tr>\n",
       "    <tr>\n",
       "      <th>2</th>\n",
       "      <td>sticker</td>\n",
       "      <td>512.0</td>\n",
       "      <td>😎</td>\n",
       "    </tr>\n",
       "  </tbody>\n",
       "</table>\n",
       "</div>"
      ],
      "text/plain": [
       "  media_type  width sticker_emoji\n",
       "0    sticker  512.0             😭\n",
       "1    sticker  512.0             😵\n",
       "2    sticker  512.0             😎"
      ]
     },
     "execution_count": 82,
     "metadata": {},
     "output_type": "execute_result"
    }
   ],
   "source": [
    "df[~pd.isna(df[\"height\"])][[\"media_type\", \"width\",\"sticker_emoji\"]].head(3)"
   ]
  },
  {
   "cell_type": "code",
   "execution_count": 60,
   "metadata": {},
   "outputs": [
    {
     "data": {
      "text/plain": [
       "media_type\n",
       "sticker          13188\n",
       "voice_message      105\n",
       "video_file          71\n",
       "animation           36\n",
       "audio_file           3\n",
       "Name: media_type, dtype: int64"
      ]
     },
     "execution_count": 60,
     "metadata": {},
     "output_type": "execute_result"
    }
   ],
   "source": [
    "df.groupby(\"media_type\")[\"media_type\"].count().sort_values(ascending = False)"
   ]
  },
  {
   "cell_type": "code",
   "execution_count": 76,
   "metadata": {},
   "outputs": [
    {
     "data": {
      "text/html": [
       "<div>\n",
       "<style scoped>\n",
       "    .dataframe tbody tr th:only-of-type {\n",
       "        vertical-align: middle;\n",
       "    }\n",
       "\n",
       "    .dataframe tbody tr th {\n",
       "        vertical-align: top;\n",
       "    }\n",
       "\n",
       "    .dataframe thead th {\n",
       "        text-align: right;\n",
       "    }\n",
       "</style>\n",
       "<table border=\"1\" class=\"dataframe\">\n",
       "  <thead>\n",
       "    <tr style=\"text-align: right;\">\n",
       "      <th></th>\n",
       "      <th>photo</th>\n",
       "      <th>date</th>\n",
       "    </tr>\n",
       "  </thead>\n",
       "  <tbody>\n",
       "    <tr>\n",
       "      <th>204299</th>\n",
       "      <td>chats/chat_1/photos/photo_5791@16-05-2019_23-3...</td>\n",
       "      <td>2019-05-16T23:35:37</td>\n",
       "    </tr>\n",
       "    <tr>\n",
       "      <th>204462</th>\n",
       "      <td>chats/chat_1/photos/photo_5792@17-05-2019_13-2...</td>\n",
       "      <td>2019-05-17T13:26:30</td>\n",
       "    </tr>\n",
       "    <tr>\n",
       "      <th>204470</th>\n",
       "      <td>chats/chat_1/photos/photo_5793@17-05-2019_17-2...</td>\n",
       "      <td>2019-05-17T17:25:16</td>\n",
       "    </tr>\n",
       "    <tr>\n",
       "      <th>204497</th>\n",
       "      <td>chats/chat_1/photos/photo_5794@17-05-2019_20-2...</td>\n",
       "      <td>2019-05-17T20:25:24</td>\n",
       "    </tr>\n",
       "    <tr>\n",
       "      <th>204521</th>\n",
       "      <td>chats/chat_1/photos/photo_5795@17-05-2019_20-4...</td>\n",
       "      <td>2019-05-17T20:40:21</td>\n",
       "    </tr>\n",
       "  </tbody>\n",
       "</table>\n",
       "</div>"
      ],
      "text/plain": [
       "                                                    photo                 date\n",
       "204299  chats/chat_1/photos/photo_5791@16-05-2019_23-3...  2019-05-16T23:35:37\n",
       "204462  chats/chat_1/photos/photo_5792@17-05-2019_13-2...  2019-05-17T13:26:30\n",
       "204470  chats/chat_1/photos/photo_5793@17-05-2019_17-2...  2019-05-17T17:25:16\n",
       "204497  chats/chat_1/photos/photo_5794@17-05-2019_20-2...  2019-05-17T20:25:24\n",
       "204521  chats/chat_1/photos/photo_5795@17-05-2019_20-4...  2019-05-17T20:40:21"
      ]
     },
     "execution_count": 76,
     "metadata": {},
     "output_type": "execute_result"
    }
   ],
   "source": [
    "df[~pd.isna(df[\"photo\"])][[\"photo\",\"date\"]].tail(5)"
   ]
  },
  {
   "cell_type": "code",
   "execution_count": 65,
   "metadata": {},
   "outputs": [
    {
     "data": {
      "text/plain": [
       "0    (File not included. Change data exporting sett...\n",
       "1    (File not included. Change data exporting sett...\n",
       "2    (File not included. Change data exporting sett...\n",
       "3    (File not included. Change data exporting sett...\n",
       "4    (File not included. Change data exporting sett...\n",
       "Name: thumbnail, dtype: object"
      ]
     },
     "execution_count": 65,
     "metadata": {},
     "output_type": "execute_result"
    }
   ],
   "source": [
    "df[~pd.isna(df[\"thumbnail\"])][\"thumbnail\"].head(5)"
   ]
  },
  {
   "cell_type": "code",
   "execution_count": 64,
   "metadata": {},
   "outputs": [
    {
     "data": {
      "text/plain": [
       "type\n",
       "message    204518\n",
       "service         7\n",
       "Name: type, dtype: int64"
      ]
     },
     "execution_count": 64,
     "metadata": {},
     "output_type": "execute_result"
    }
   ],
   "source": [
    "df.groupby(\"type\")[\"type\"].count().sort_values(ascending = False)"
   ]
  },
  {
   "cell_type": "code",
   "execution_count": 57,
   "metadata": {},
   "outputs": [
    {
     "data": {
      "text/plain": [
       "sticker_emoji\n",
       "❤     688\n",
       "☺️    654\n",
       "😢     582\n",
       "😭     580\n",
       "😁     468\n",
       "😘     431\n",
       "😍     420\n",
       "😌     405\n",
       "😧     374\n",
       "😐     372\n",
       "😒     307\n",
       "😞     301\n",
       "😕     284\n",
       "😊     283\n",
       "🙂     263\n",
       "😳     256\n",
       "😂     238\n",
       "😟     223\n",
       "🙄     207\n",
       "☹     192\n",
       "🤔     188\n",
       "😝     181\n",
       "😶     180\n",
       "😏     177\n",
       "😜     165\n",
       "😔     162\n",
       "👶     155\n",
       "😠     150\n",
       "😥     147\n",
       "😋     143\n",
       "     ... \n",
       "💻       2\n",
       "😪       2\n",
       "😾       2\n",
       "😼       2\n",
       "☝       2\n",
       "☘       2\n",
       "💄       2\n",
       "🐰       2\n",
       "👽       1\n",
       "🛍       1\n",
       "🎤       1\n",
       "✌       1\n",
       "✂       1\n",
       "☠       1\n",
       "💥       1\n",
       "👇       1\n",
       "📷       1\n",
       "🎵       1\n",
       "🐸       1\n",
       "🙌       1\n",
       "🌙       1\n",
       "🐤       1\n",
       "🌞       1\n",
       "🙆       1\n",
       "🌺       1\n",
       "🍌       1\n",
       "🍷       1\n",
       "🍹       1\n",
       "😹       1\n",
       "🎌       1\n",
       "Name: sticker_emoji, Length: 183, dtype: int64"
      ]
     },
     "execution_count": 57,
     "metadata": {},
     "output_type": "execute_result"
    }
   ],
   "source": [
    "df.groupby(\"sticker_emoji\")[\"sticker_emoji\"].count().sort_values(ascending = False)"
   ]
  },
  {
   "cell_type": "code",
   "execution_count": 75,
   "metadata": {},
   "outputs": [
    {
     "data": {
      "text/html": [
       "<div>\n",
       "<style scoped>\n",
       "    .dataframe tbody tr th:only-of-type {\n",
       "        vertical-align: middle;\n",
       "    }\n",
       "\n",
       "    .dataframe tbody tr th {\n",
       "        vertical-align: top;\n",
       "    }\n",
       "\n",
       "    .dataframe thead th {\n",
       "        text-align: right;\n",
       "    }\n",
       "</style>\n",
       "<table border=\"1\" class=\"dataframe\">\n",
       "  <thead>\n",
       "    <tr style=\"text-align: right;\">\n",
       "      <th></th>\n",
       "      <th>id</th>\n",
       "      <th>date</th>\n",
       "      <th>from</th>\n",
       "      <th>from_id</th>\n",
       "      <th>text</th>\n",
       "    </tr>\n",
       "  </thead>\n",
       "  <tbody>\n",
       "    <tr>\n",
       "      <th>204519</th>\n",
       "      <td>214802</td>\n",
       "      <td>2019-05-17T20:33:07</td>\n",
       "      <td>Vincent Xu</td>\n",
       "      <td>201564278.0</td>\n",
       "      <td>啊 那我现在先把data搞下来</td>\n",
       "    </tr>\n",
       "    <tr>\n",
       "      <th>204520</th>\n",
       "      <td>214803</td>\n",
       "      <td>2019-05-17T20:39:55</td>\n",
       "      <td>Vincent Xu</td>\n",
       "      <td>201564278.0</td>\n",
       "      <td>hmmm,为什么我的桌面telegram没有export的这个选项。。</td>\n",
       "    </tr>\n",
       "    <tr>\n",
       "      <th>204522</th>\n",
       "      <td>214805</td>\n",
       "      <td>2019-05-17T20:40:27</td>\n",
       "      <td>Vincent Xu</td>\n",
       "      <td>201564278.0</td>\n",
       "      <td>居然有两个telegram。。。</td>\n",
       "    </tr>\n",
       "    <tr>\n",
       "      <th>204523</th>\n",
       "      <td>214806</td>\n",
       "      <td>2019-05-17T20:40:30</td>\n",
       "      <td>Vincent Xu</td>\n",
       "      <td>201564278.0</td>\n",
       "      <td>跪了。。</td>\n",
       "    </tr>\n",
       "    <tr>\n",
       "      <th>204524</th>\n",
       "      <td>214807</td>\n",
       "      <td>2019-05-17T20:40:57</td>\n",
       "      <td>Mi Feng</td>\n",
       "      <td>161952255.0</td>\n",
       "      <td>噗。。。</td>\n",
       "    </tr>\n",
       "  </tbody>\n",
       "</table>\n",
       "</div>"
      ],
      "text/plain": [
       "            id                 date        from      from_id  \\\n",
       "204519  214802  2019-05-17T20:33:07  Vincent Xu  201564278.0   \n",
       "204520  214803  2019-05-17T20:39:55  Vincent Xu  201564278.0   \n",
       "204522  214805  2019-05-17T20:40:27  Vincent Xu  201564278.0   \n",
       "204523  214806  2019-05-17T20:40:30  Vincent Xu  201564278.0   \n",
       "204524  214807  2019-05-17T20:40:57     Mi Feng  161952255.0   \n",
       "\n",
       "                                       text  \n",
       "204519                      啊 那我现在先把data搞下来  \n",
       "204520  hmmm,为什么我的桌面telegram没有export的这个选项。。  \n",
       "204522                     居然有两个telegram。。。  \n",
       "204523                                 跪了。。  \n",
       "204524                                 噗。。。  "
      ]
     },
     "execution_count": 75,
     "metadata": {},
     "output_type": "execute_result"
    }
   ],
   "source": [
    "df[(df[\"text\"]!=\"\")][[\"id\",\"date\",\"from\",\"from_id\",\"text\"]].tail(5) # from, from_id: message from"
   ]
  },
  {
   "cell_type": "code",
   "execution_count": null,
   "metadata": {},
   "outputs": [],
   "source": []
  }
 ],
 "metadata": {
  "kernelspec": {
   "display_name": "Python 3",
   "language": "python",
   "name": "python3"
  },
  "language_info": {
   "codemirror_mode": {
    "name": "ipython",
    "version": 3
   },
   "file_extension": ".py",
   "mimetype": "text/x-python",
   "name": "python",
   "nbconvert_exporter": "python",
   "pygments_lexer": "ipython3",
   "version": "3.7.0"
  }
 },
 "nbformat": 4,
 "nbformat_minor": 2
}
